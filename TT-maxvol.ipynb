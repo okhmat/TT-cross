{
 "cells": [
  {
   "cell_type": "code",
   "execution_count": 1,
   "metadata": {
    "collapsed": true
   },
   "outputs": [],
   "source": [
    "import numpy as np\n",
    "import numpy.linalg as la\n",
    "from tt import *\n",
    "import maxvolpy as mv"
   ]
  },
  {
   "cell_type": "code",
   "execution_count": 94,
   "metadata": {
    "collapsed": true
   },
   "outputs": [],
   "source": [
    "# Skeleton function\n",
    "# INPUT: \n",
    "# 1. unfolding matrix M, M.shape=(Nl, Nr) - toll matrix\n",
    "# 2. r - rank of submatrix to be of quasi-maxvol\n",
    "# 3. delta - accuracy of approximation\n",
    "\n",
    "def sk(M, r, delta):\n",
    "    # initialization\n",
    "    # M_p - previous\n",
    "    # M_n - next\n",
    "    assert(M.shape[1] > r)\n",
    "    J = np.arange(r) # first r columns of unfolding matrix\n",
    "    Mp = np.zeros((M.shape[0], M.shape[1]))\n",
    "    while(True):\n",
    "        \n",
    "        C = M[:, J]\n",
    "        Q, T = la.qr(C)\n",
    "        # assert(Q.shape=...)\n",
    "        I = maxvol.maxvol(Q)\n",
    "        print(I, type(I))\n",
    "        R = M[I, :].T\n",
    "        Q, T = la.qr(R)\n",
    "        J = maxvol.maxvol(Q)\n",
    "        Q_hat = Q[J, :]\n",
    "        aux1 = la.inv(Q_hat)\n",
    "        \n",
    "        aux2 = la.solve(Q_hat.T, Q.T)\n",
    "#         Mn = M[:, J] @ (Q @ la.inv(Q_hat)).T\n",
    "        Mn = M[:, J] @ aux2\n",
    "        print(\"rows\", I)\n",
    "        print(\"columns\", J)\n",
    "        if(la.norm(Mn - Mp, ord='fro') > delta * la.norm(Mn, ord='f')):\n",
    "            break;\n",
    "\n",
    "    M_hat_inv = M[I, :]\n",
    "    M_hat_inv = M_hat_inv[:, J]\n",
    "    M_hat_inv = la.inv(M_hat_inv)\n",
    "    \n",
    "    return C, M_hat_inv, R"
   ]
  },
  {
   "cell_type": "code",
   "execution_count": 95,
   "metadata": {},
   "outputs": [
    {
     "name": "stdout",
     "output_type": "stream",
     "text": [
      "[ 66 910 969 367 529] <class 'numpy.ndarray'>\n",
      "rows [ 66 910 969 367 529]\n",
      "columns [3 2 1 0 4]\n"
     ]
    }
   ],
   "source": [
    "A = np.random.rand(1000, 10)\n",
    "\n",
    "r = 5\n",
    "delta = 1e-5\n",
    "\n",
    "C, M_hat_inv, R = sk(A, r, delta)"
   ]
  },
  {
   "cell_type": "markdown",
   "metadata": {
    "collapsed": true
   },
   "source": [
    "### Latin Hypercube Sampling Multi-Dimensional Uniform"
   ]
  },
  {
   "cell_type": "code",
   "execution_count": 83,
   "metadata": {},
   "outputs": [
    {
     "data": {
      "image/png": "[encoded data removed]",
      "text/plain": [
       "<matplotlib.figure.Figure at 0x10c25f860>"
      ]
     },
     "metadata": {},
     "output_type": "display_data"
    }
   ],
   "source": [
    "import lhsmdu\n",
    "import matplotlib.pyplot as plt\n",
    "import numpy\n",
    "\n",
    "\n",
    "l = np.asarray(lhsmdu.sample(2, 10)) # Latin Hypercube Sampling of two variables, and 10 samples each.\n",
    "k = np.asarray(lhsmdu.createRandomStandardUniformMatrix(2, 10)) # Monte Carlo Sampling\n",
    "\n",
    "\n",
    "fig = plt.figure()\n",
    "ax = fig.gca()\n",
    "ax.set_xticks(numpy.arange(0,1,0.1))\n",
    "ax.set_yticks(numpy.arange(0,1,0.1))\n",
    "\n",
    "plt.scatter(k[0, :], k[1, :], color=\"b\", label=\"LHS-MDU\")\n",
    "plt.scatter(l[0, :], l[1, :], color=\"r\", label=\"MC\")\n",
    "plt.grid()\n",
    "plt.show()"
   ]
  },
  {
   "cell_type": "code",
   "execution_count": null,
   "metadata": {
    "collapsed": true
   },
   "outputs": [],
   "source": []
  },
  {
   "cell_type": "code",
   "execution_count": null,
   "metadata": {
    "collapsed": true
   },
   "outputs": [],
   "source": []
  },
  {
   "cell_type": "code",
   "execution_count": null,
   "metadata": {
    "collapsed": true
   },
   "outputs": [],
   "source": []
  },
  {
   "cell_type": "code",
   "execution_count": null,
   "metadata": {
    "collapsed": true
   },
   "outputs": [],
   "source": []
  },
  {
   "cell_type": "code",
   "execution_count": null,
   "metadata": {},
   "outputs": [],
   "source": []
  },
  {
   "cell_type": "code",
   "execution_count": 12,
   "metadata": {},
   "outputs": [
    {
     "name": "stdout",
     "output_type": "stream",
     "text": [
      "[[ 2  3  4  5  6  7  8]\n",
      " [ 2  3  4  5  6  7  8]\n",
      " [ 2  3  4  5  6  7  8]\n",
      " [ 2  3  4  5  6  7  8]\n",
      " [ 2  3  4 34  6 28 44]\n",
      " [ 2  3  4  5  6  7  8]]\n",
      "[[2 4 6]\n",
      " [2 4 6]\n",
      " [2 4 6]\n",
      " [2 4 6]\n",
      " [2 4 6]\n",
      " [2 4 6]]\n"
     ]
    }
   ],
   "source": [
    "Z = np.array([[2, 3, 4, 5, 6, 7, 8], \n",
    "            [2, 3, 4, 5, 6, 7, 8],\n",
    "            [2, 3, 4, 5, 6, 7, 8],\n",
    "            [2, 3, 4, 5, 6, 7, 8],\n",
    "            [2, 3, 4, 34, 6, 28, 44],\n",
    "            [2, 3, 4, 5, 6, 7, 8]])\n",
    "print(Z)\n",
    "H = np.array([0, 2, 4])\n",
    "Z = Z[:, H]\n",
    "print(Z)"
   ]
  }
 ],
 "metadata": {
  "kernelspec": {
   "display_name": "Python 3",
   "language": "python",
   "name": "python3"
  },
  "language_info": {
   "codemirror_mode": {
    "name": "ipython",
    "version": 3
   },
   "file_extension": ".py",
   "mimetype": "text/x-python",
   "name": "python",
   "nbconvert_exporter": "python",
   "pygments_lexer": "ipython3",
   "version": "3.6.2"
  }
 },
 "nbformat": 4,
 "nbformat_minor": 2
}
