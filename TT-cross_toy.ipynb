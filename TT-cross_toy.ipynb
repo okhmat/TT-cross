{
 "cells": [
  {
   "cell_type": "markdown",
   "metadata": {},
   "source": [
    "Firstly, let's consider a simple tensor and do all the procedures for it to visualize the process."
   ]
  },
  {
   "cell_type": "code",
   "execution_count": null,
   "metadata": {
    "collapsed": true
   },
   "outputs": [],
   "source": [
    "# Write a function for generating random tensor with given shape"
   ]
  },
  {
   "cell_type": "code",
   "execution_count": 329,
   "metadata": {
    "collapsed": true
   },
   "outputs": [],
   "source": [
    "import numpy as np\n",
    "import numpy.linalg as la\n",
    "import matplotlib.pyplot as plt\n",
    "\n",
    "eps = 1e-2\n",
    "rhs = (eps*nrm) / (np.sqrt(d-1))\n",
    "\n",
    "d = 4\n",
    "\n",
    "n = np.array([4, 3, 2, 3])\n",
    "A = np.random.rand(4, 3, 2, 3)"
   ]
  },
  {
   "cell_type": "code",
   "execution_count": 330,
   "metadata": {},
   "outputs": [],
   "source": [
    "def lhs(Nl, Nr, r, s):\n",
    "    if(Nl > Nr):\n",
    "        m = Nr\n",
    "    else:\n",
    "        m = Nl\n",
    "    summ = 0\n",
    "    for k in range(r+1, m):\n",
    "        summ += s[k]**2\n",
    "    return np.sqrt(summ)"
   ]
  },
  {
   "cell_type": "code",
   "execution_count": 331,
   "metadata": {
    "collapsed": true
   },
   "outputs": [],
   "source": [
    "def compar(lhs, rhs):\n",
    "    if(lhs <= rhs):\n",
    "        return True\n",
    "    else:\n",
    "        return False"
   ]
  },
  {
   "cell_type": "code",
   "execution_count": 332,
   "metadata": {},
   "outputs": [],
   "source": [
    "def truncated_SVD(Nl, Nr, r, u, s, vh, eps): \n",
    "    l = lhs(Nl, Nr, r, s)\n",
    "    while(compar(l, rhs) == False):\n",
    "        u = u[:, :-1]\n",
    "        s = s[:-1, :-1]\n",
    "        vh = vh[:-1, :]\n",
    "    return u, s, vh"
   ]
  },
  {
   "cell_type": "code",
   "execution_count": 333,
   "metadata": {},
   "outputs": [
    {
     "name": "stdout",
     "output_type": "stream",
     "text": [
      "r =  3\n",
      "CARRIAGES\n",
      "(1, 4, 4)\n",
      "(4, 2, 8)\n",
      "(8, 3, 3)\n",
      "(3, 3, 1)\n"
     ]
    }
   ],
   "source": [
    "# now, we have a tensor with, most likely, full-rank (since it's generated randomly)\n",
    "# ===================1=====================\n",
    "\n",
    "Nl = n[0]\n",
    "Nr = np.prod(n[1:])\n",
    "\n",
    "# ===================2=====================\n",
    "\n",
    "M = A.reshape((Nl, Nr))\n",
    "\n",
    "# ===================3=====================\n",
    "\n",
    "nrm = la.norm(M, ord='fro')\n",
    "\n",
    "# ===================4=====================\n",
    "\n",
    "u, s, vh = np.linalg.svd(M, full_matrices=True, compute_uv=True)\n",
    "# vh - unitary rows, u - unitary columns\n",
    "aux = np.zeros((M.shape[0], M.shape[1]))\n",
    "# concatenate zeros to the tail of singular values array (they should have correct shapes)\n",
    "for i in range(s.shape[0]):\n",
    "    aux[i, i] = s[i]\n",
    "s = aux\n",
    "\n",
    "# ===================5=====================\n",
    "\n",
    "u, s, vh = truncated_SVD(Nl, Nr, s.shape[0], u, s, vh, eps)\n",
    "\n",
    "# ===================6=====================\n",
    "\n",
    "G = list()\n",
    "G.append(u.reshape(1, u.shape[0], u.shape[1]))\n",
    "M = s @ vh\n",
    "r = np.count_nonzero(s)\n",
    "\n",
    "# ===================7=====================\n",
    "\n",
    "\n",
    "\n",
    "\n",
    "\n",
    "# MAIN LOOP\n",
    "\n",
    "\n",
    "\n",
    "\n",
    "\n",
    "# ===================7=====================\n",
    "\n",
    "for k in range(2, d):\n",
    "    Nl = n[k]\n",
    "    Nr = Nr // n[k]\n",
    "    \n",
    "    M = M.reshape((r*Nl, Nr))\n",
    "    aux = np.zeros((M.shape[0], M.shape[1]))\n",
    "    \n",
    "    u, s, vh = np.linalg.svd(M, full_matrices=True, compute_uv=True)\n",
    "\n",
    "    for i in range(s.shape[0]):\n",
    "        aux[i, i] = s[i]\n",
    "    s = aux # now s has correct shape to compute the inner product\n",
    "    \n",
    "    u, s, vh = truncated_SVD(Nl, Nr, s.shape[0], u, s, vh, eps)\n",
    "\n",
    "    r_prev = r\n",
    "    r = np.count_nonzero(s)\n",
    "    \n",
    "    # cut all the zero rows and columns of s and corresponding rows and columns of matrices U and V^T\n",
    "    u = u[:, :r]\n",
    "    s = s[:r, :r]\n",
    "    vh = vh[:r, :]\n",
    "    \n",
    "    G.append(u.reshape(r_prev, n[k], r))\n",
    "    \n",
    "    M = s @ vh\n",
    "\n",
    "print('r = ', r)\n",
    "G.append(M.reshape(r, n[d-1], 1))\n",
    "print(\"CARRIAGES\")\n",
    "for i in range(d):\n",
    "    print(G[i].shape)"
   ]
  },
  {
   "cell_type": "code",
   "execution_count": null,
   "metadata": {
    "collapsed": true
   },
   "outputs": [],
   "source": []
  },
  {
   "cell_type": "code",
   "execution_count": 226,
   "metadata": {},
   "outputs": [
    {
     "data": {
      "text/plain": [
       "3"
      ]
     },
     "execution_count": 226,
     "metadata": {},
     "output_type": "execute_result"
    }
   ],
   "source": [
    "n[2]"
   ]
  },
  {
   "cell_type": "code",
   "execution_count": 227,
   "metadata": {},
   "outputs": [
    {
     "data": {
      "text/plain": [
       "9"
      ]
     },
     "execution_count": 227,
     "metadata": {},
     "output_type": "execute_result"
    }
   ],
   "source": [
    "Nr = Nr // n[k]\n",
    "Nr"
   ]
  },
  {
   "cell_type": "code",
   "execution_count": 223,
   "metadata": {},
   "outputs": [
    {
     "name": "stdout",
     "output_type": "stream",
     "text": [
      "3.0\n",
      "3\n"
     ]
    },
    {
     "ename": "TypeError",
     "evalue": "'numpy.float64' object cannot be interpreted as an integer",
     "output_type": "error",
     "traceback": [
      "\u001b[0;31m---------------------------------------------------------------------------\u001b[0m",
      "\u001b[0;31mTypeError\u001b[0m                                 Traceback (most recent call last)",
      "\u001b[0;32m<ipython-input-223-43db51bf35d8>\u001b[0m in \u001b[0;36m<module>\u001b[0;34m()\u001b[0m\n\u001b[1;32m      8\u001b[0m \u001b[0;34m\u001b[0m\u001b[0m\n\u001b[1;32m      9\u001b[0m \u001b[0;34m\u001b[0m\u001b[0m\n\u001b[0;32m---> 10\u001b[0;31m     \u001b[0mM\u001b[0m \u001b[0;34m=\u001b[0m \u001b[0mM\u001b[0m\u001b[0;34m.\u001b[0m\u001b[0mreshape\u001b[0m\u001b[0;34m(\u001b[0m\u001b[0;34m(\u001b[0m\u001b[0mr\u001b[0m\u001b[0;34m*\u001b[0m\u001b[0mNl\u001b[0m\u001b[0;34m,\u001b[0m \u001b[0mNr\u001b[0m\u001b[0;34m)\u001b[0m\u001b[0;34m)\u001b[0m\u001b[0;34m\u001b[0m\u001b[0m\n\u001b[0m\u001b[1;32m     11\u001b[0m     \u001b[0maux\u001b[0m \u001b[0;34m=\u001b[0m \u001b[0mnp\u001b[0m\u001b[0;34m.\u001b[0m\u001b[0mzeros\u001b[0m\u001b[0;34m(\u001b[0m\u001b[0;34m(\u001b[0m\u001b[0mM\u001b[0m\u001b[0;34m.\u001b[0m\u001b[0mshape\u001b[0m\u001b[0;34m[\u001b[0m\u001b[0;36m1\u001b[0m\u001b[0;34m]\u001b[0m\u001b[0;34m)\u001b[0m\u001b[0;34m)\u001b[0m\u001b[0;34m\u001b[0m\u001b[0m\n\u001b[1;32m     12\u001b[0m \u001b[0;34m\u001b[0m\u001b[0m\n",
      "\u001b[0;31mTypeError\u001b[0m: 'numpy.float64' object cannot be interpreted as an integer"
     ]
    }
   ],
   "source": [
    "r"
   ]
  },
  {
   "cell_type": "code",
   "execution_count": 124,
   "metadata": {},
   "outputs": [
    {
     "data": {
      "text/plain": [
       "array([[1, 2],\n",
       "       [1, 2]])"
      ]
     },
     "execution_count": 124,
     "metadata": {},
     "output_type": "execute_result"
    }
   ],
   "source": [
    "a = np.array([[1, 2, 3, 4], [1, 2, 3, 4]])\n",
    "a[:, :-2]"
   ]
  },
  {
   "cell_type": "code",
   "execution_count": null,
   "metadata": {},
   "outputs": [],
   "source": []
  },
  {
   "cell_type": "code",
   "execution_count": null,
   "metadata": {
    "collapsed": true
   },
   "outputs": [],
   "source": []
  }
 ],
 "metadata": {
  "kernelspec": {
   "display_name": "Python 3",
   "language": "python",
   "name": "python3"
  },
  "language_info": {
   "codemirror_mode": {
    "name": "ipython",
    "version": 3
   },
   "file_extension": ".py",
   "mimetype": "text/x-python",
   "name": "python",
   "nbconvert_exporter": "python",
   "pygments_lexer": "ipython3",
   "version": "3.6.2"
  }
 },
 "nbformat": 4,
 "nbformat_minor": 2
}
