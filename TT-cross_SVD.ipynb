{
 "cells": [
  {
   "cell_type": "markdown",
   "metadata": {},
   "source": [
    "Firstly, let's consider a simple tensor and do all the procedures for it to visualize the process."
   ]
  },
  {
   "cell_type": "code",
   "execution_count": 27,
   "metadata": {
    "collapsed": true
   },
   "outputs": [],
   "source": [
    "# Write a function for generating random tensor with given shape"
   ]
  },
  {
   "cell_type": "code",
   "execution_count": 2,
   "metadata": {},
   "outputs": [],
   "source": [
    "import numpy as np\n",
    "import numpy.linalg as la\n",
    "import matplotlib.pyplot as plt"
   ]
  },
  {
   "cell_type": "code",
   "execution_count": 91,
   "metadata": {
    "collapsed": true
   },
   "outputs": [],
   "source": [
    "def lhs(Nl, Nr, r, s): # some problem occurs here\n",
    "    if(Nl > Nr):\n",
    "        m = Nr\n",
    "    else:\n",
    "        m = Nl\n",
    "    summ = 0\n",
    "    for k in range(r+1, m):\n",
    "        summ += s[k]**2\n",
    "    return np.sqrt(np.max(summ))"
   ]
  },
  {
   "cell_type": "code",
   "execution_count": 92,
   "metadata": {
    "collapsed": true
   },
   "outputs": [],
   "source": [
    "def compar(lhs, rhs):\n",
    "    if(lhs <= rhs):\n",
    "        return True\n",
    "    else:\n",
    "        return False"
   ]
  },
  {
   "cell_type": "code",
   "execution_count": 93,
   "metadata": {},
   "outputs": [],
   "source": [
    "def truncated_SVD(Nl, Nr, r, u, s, vh, eps, rhs): \n",
    "    l = lhs(Nl, Nr, r, s)\n",
    "    while(compar(l, rhs) == False):\n",
    "        u = u[:, :-1]\n",
    "        s = s[:-1, :-1]\n",
    "        vh = vh[:-1, :]\n",
    "    return u, s, vh"
   ]
  },
  {
   "cell_type": "code",
   "execution_count": 98,
   "metadata": {},
   "outputs": [
    {
     "name": "stdout",
     "output_type": "stream",
     "text": [
      "r =  4\n",
      "CARRIAGES\n",
      "(1, 4, 4)\n",
      "(4, 4, 16)\n",
      "(16, 4, 4)\n",
      "(4, 4, 1)\n"
     ]
    }
   ],
   "source": [
    "# now, we have a tensor with, most likely, full-rank (since it generated randomly)\n",
    "\n",
    "eps = 1\n",
    "d = 4\n",
    "\n",
    "A = np.random.rand(4, 4, 4, 4)\n",
    "n = A.shape\n",
    "\n",
    "# ===================1=====================\n",
    "\n",
    "Nl = n[0]\n",
    "Nr = np.prod(n[1:])\n",
    "\n",
    "# ===================2=====================\n",
    "\n",
    "M = A.reshape((Nl, Nr))\n",
    "\n",
    "# ===================3=====================\n",
    "\n",
    "nrm = la.norm(M, ord='fro')\n",
    "rhs = (eps*nrm) / (np.sqrt(d-1))\n",
    "\n",
    "# ===================4=====================\n",
    "\n",
    "u, s, vh = np.linalg.svd(M, full_matrices=True, compute_uv=True)\n",
    "# vh - unitary rows (already transposed), u - unitary columns\n",
    "aux = np.zeros((M.shape[0], M.shape[1]))\n",
    "# concatenate zeros to the tail of singular values array (they should have correct shapes)\n",
    "for i in range(s.shape[0]):\n",
    "    aux[i, i] = s[i]\n",
    "s = aux\n",
    "\n",
    "# ===================5=====================\n",
    "\n",
    "u, s, vh = truncated_SVD(Nl, Nr, 2, u, s, vh, eps, rhs)\n",
    "\n",
    "# ===================6=====================\n",
    "\n",
    "G = list()\n",
    "\n",
    "G.append(u.reshape(1, u.shape[0], u.shape[1]))\n",
    "M = s @ vh\n",
    "r = np.count_nonzero(s)\n",
    "\n",
    "# ===================7=====================\n",
    "\n",
    "\n",
    "\n",
    "\n",
    "\n",
    "# MAIN LOOP\n",
    "\n",
    "\n",
    "\n",
    "\n",
    "\n",
    "# ===================7=====================\n",
    "\n",
    "for k in range(2, d):\n",
    "    Nl = n[k]\n",
    "    Nr = Nr // n[k]\n",
    "    \n",
    "    M = M.reshape((r*Nl, Nr))\n",
    "    aux = np.zeros((M.shape[0], M.shape[1]))\n",
    "    \n",
    "    u, s, vh = np.linalg.svd(M, full_matrices=True, compute_uv=True)\n",
    "\n",
    "    for i in range(s.shape[0]):\n",
    "        aux[i, i] = s[i]\n",
    "    s = aux # now s has correct shape to compute the inner product\n",
    "    \n",
    "    u, s, vh = truncated_SVD(Nl, Nr, s.shape[0], u, s, vh, eps, rhs)\n",
    "\n",
    "    r_prev = r\n",
    "    r = np.count_nonzero(s)\n",
    "    \n",
    "    # cut all the zero rows and columns of s and corresponding rows and columns of matrices U and V^T\n",
    "    u = u[:, :r]\n",
    "    s = s[:r, :r]\n",
    "    vh = vh[:r, :]\n",
    "    \n",
    "    G.append(u.reshape(r_prev, n[k], r))\n",
    "    \n",
    "    M = s @ vh\n",
    "\n",
    "print('r = ', r)\n",
    "G.append(M.reshape(r, n[d-1], 1))\n",
    "print(\"CARRIAGES\")\n",
    "for i in range(d):\n",
    "    print(G[i].shape)"
   ]
  },
  {
   "cell_type": "code",
   "execution_count": 99,
   "metadata": {},
   "outputs": [
    {
     "data": {
      "text/plain": [
       "(16, 4, 4)"
      ]
     },
     "execution_count": 99,
     "metadata": {},
     "output_type": "execute_result"
    }
   ],
   "source": [
    "G[2].shape"
   ]
  },
  {
   "cell_type": "code",
   "execution_count": 100,
   "metadata": {},
   "outputs": [
    {
     "data": {
      "text/plain": [
       "1"
      ]
     },
     "execution_count": 100,
     "metadata": {},
     "output_type": "execute_result"
    }
   ],
   "source": [
    "Nr = Nr // n[k]\n",
    "Nr"
   ]
  },
  {
   "cell_type": "code",
   "execution_count": 101,
   "metadata": {},
   "outputs": [
    {
     "data": {
      "text/plain": [
       "4"
      ]
     },
     "execution_count": 101,
     "metadata": {},
     "output_type": "execute_result"
    }
   ],
   "source": [
    "r"
   ]
  },
  {
   "cell_type": "code",
   "execution_count": 102,
   "metadata": {},
   "outputs": [
    {
     "data": {
      "text/plain": [
       "array([[1, 2],\n",
       "       [1, 2]])"
      ]
     },
     "execution_count": 102,
     "metadata": {},
     "output_type": "execute_result"
    }
   ],
   "source": [
    "a = np.array([[1, 2, 3, 4], \n",
    "              [1, 2, 3, 4]])\n",
    "a[:, :-2]"
   ]
  },
  {
   "cell_type": "code",
   "execution_count": 103,
   "metadata": {},
   "outputs": [
    {
     "name": "stdout",
     "output_type": "stream",
     "text": [
      "(9, 6)\n",
      "[1 2 0 3 8 5]\n"
     ]
    },
    {
     "data": {
      "text/plain": [
       "array([[   10,     3,    45,     5,     6,     1],\n",
       "       [    2, 30000,     4,     4,    40,     7],\n",
       "       [    2,     3,     4,     5,     6,     7],\n",
       "       [    2,     3,     6,   567,     6,     7],\n",
       "       [    2,     3,     9,     5,     6,    20],\n",
       "       [    2,     3,     4,     5,     6,    20]])"
      ]
     },
     "execution_count": 103,
     "metadata": {},
     "output_type": "execute_result"
    }
   ],
   "source": [
    "from tt import * \n",
    "import maxvolpy as mv\n",
    "\n",
    "K = np.array([[2, 3, 4, 5, 6, 7], # a string\n",
    "              [10, 3, 45, 5, 6, 1], \n",
    "              [2, 30000, 4, 4, 40, 7], \n",
    "              [2, 3, 6, 567, 6, 7], \n",
    "              [2, 3, 4, 5, 6, 20], \n",
    "             [2, 3, 4, 5, 6, 20], \n",
    "             [2, 3, 4, 4, 6, 20], \n",
    "             [2, 3, 4, 5, 7, 20], \n",
    "             [2, 3, 9, 5, 6, 20]])\n",
    "print(K.shape)\n",
    "\n",
    "f, _ = mv.maxvol.maxvol_qr(K, tol=1)\n",
    "print(f)\n",
    "\n",
    "K1 = K[f, :]\n",
    "K1"
   ]
  },
  {
   "cell_type": "code",
   "execution_count": 104,
   "metadata": {
    "collapsed": true
   },
   "outputs": [],
   "source": [
    "# Let's check the results"
   ]
  },
  {
   "cell_type": "code",
   "execution_count": 106,
   "metadata": {},
   "outputs": [
    {
     "name": "stdout",
     "output_type": "stream",
     "text": [
      "(16, 4, 4)\n",
      "ok\n"
     ]
    }
   ],
   "source": [
    "G1 = np.tensordot(G[0], G[1], axes=1) \n",
    "print(G[2].shape)\n",
    "G2 = np.tensordot(G1, G[2], axes=1)\n",
    "G3 = np.tensordot(G2, G[3], axes=1)\n",
    "G3 = G3.reshape(4, 4, 4, 4, order='f')\n",
    "G3.shape\n",
    "if(np.linalg.norm(G3 - A) < 1e-3):\n",
    "    print('ok')"
   ]
  },
  {
   "cell_type": "code",
   "execution_count": null,
   "metadata": {
    "collapsed": true
   },
   "outputs": [],
   "source": []
  },
  {
   "cell_type": "markdown",
   "metadata": {},
   "source": [
    "### TT cross approximation (function)"
   ]
  },
  {
   "cell_type": "code",
   "execution_count": 3,
   "metadata": {},
   "outputs": [],
   "source": [
    "# INPUT: \n",
    "    # T - initial tensor\n",
    "    # eps - accuracy bound of the approximation\n",
    "    # n - array with length of each dimension\n",
    "    # method - either SVD or maxvol\n",
    "\n",
    "# OUTPUT:\n",
    "    # G - list of 'carriages' of the train\n",
    "\n",
    "\n",
    "\n",
    "\n",
    "def TT(A, eps=1e-3, method='maxvol'):\n",
    "    def lhs(Nl, Nr, r, s):\n",
    "        if(Nl > Nr):\n",
    "            m = Nr\n",
    "        else:\n",
    "            m = Nl\n",
    "        summ = 0\n",
    "        for k in range(r+1, m):\n",
    "            summ += s[k]**2\n",
    "        return np.sqrt(summ)\n",
    "    def compar(lhs, rhs):\n",
    "        if(lhs <= rhs):\n",
    "            return True\n",
    "        else:\n",
    "            return False\n",
    "    def truncated_SVD(Nl, Nr, r, u, s, vh, eps): \n",
    "        l = lhs(Nl, Nr, r, np.diag(s))\n",
    "        while(compar(l, rhs) == False):\n",
    "            u = u[:, :-1]\n",
    "            s = s[:-1, :-1]\n",
    "            vh = vh[:-1, :]\n",
    "        return u, s, vh\n",
    "#     def cross():\n",
    "\n",
    "    n = A.shape\n",
    "    d = len(n) # number of dimensions\n",
    "\n",
    "    Nl = n[0]\n",
    "    Nr = np.prod(n[1:])\n",
    "    print('Nl: {}'.format(Nl))\n",
    "    print('Nr: {}'.format(Nr))\n",
    "\n",
    "    M = A.reshape((Nl, Nr))\n",
    "    print('shape(M)', M.shape)\n",
    "    \n",
    "    if(method == 'SVD'):\n",
    "        print('INITIAL ITERATION: ')\n",
    "        nrm = la.norm(M, ord='fro')\n",
    "        rhs = (eps*nrm) / (np.sqrt(d-1))\n",
    "    \n",
    "        u, s, vh = np.linalg.svd(M) #  full_matrices=True, compute_uv=True\n",
    "        print('shape(u) = ', u.shape)\n",
    "        print('shape(s) = ', s.shape)\n",
    "        print('shape(vh) = ', vh.shape)\n",
    "\n",
    "        aux = np.zeros((M.shape[0], M.shape[1]))\n",
    "\n",
    "        for i in range(s.shape[0]):\n",
    "            aux[i, i] = s[i]\n",
    "        s = aux\n",
    "        \n",
    "        print('shape of s after fitting the diag into a matrix', s.shape)\n",
    "        print('get back to unfolding ', (u@s@vh).shape)\n",
    "        # check:\n",
    "        if((u@s@vh).all() == M.all()):\n",
    "            print('deconposition is correct')\n",
    "\n",
    "#         u, s, vh = truncated_SVD(Nl, Nr, s.shape[0], u, s, vh, eps)\n",
    "        print('shape(u_trunceted) = ', u.shape)\n",
    "        print('shape(s_trunc) = ', s.shape)\n",
    "        print('shape(vh_trunc) = ', vh.shape)\n",
    "\n",
    "        G = list()\n",
    "        G.append(u.reshape(1, u.shape[0], u.shape[1]))\n",
    "        M = s @ vh\n",
    "        r = np.count_nonzero(s)\n",
    "\n",
    "        for k in range(1, d-1):\n",
    "            print('ITERATION {}'.format(k))\n",
    "            Nl = n[k]\n",
    "            Nr = Nr // n[k]\n",
    "\n",
    "            M = M.reshape((r*Nl, Nr))\n",
    "            aux = np.zeros((M.shape[0], M.shape[1]))\n",
    "\n",
    "            u, s, vh = np.linalg.svd(M, full_matrices=True, compute_uv=True)\n",
    "\n",
    "            for i in range(s.shape[0]):\n",
    "                aux[i, i] = s[i]\n",
    "            s = aux \n",
    "\n",
    "            u, s, vh = truncated_SVD(Nl, Nr, s.shape[0], u, s, vh, eps)\n",
    "\n",
    "            r_prev = r\n",
    "            r = np.count_nonzero(s)\n",
    "\n",
    "            u = u[:, :r]\n",
    "            s = s[:r, :r]\n",
    "            vh = vh[:r, :]\n",
    "\n",
    "            G.append(u.reshape(r_prev, n[k], r))\n",
    "            M = s @ vh\n",
    "                \n",
    "        G.append(M.reshape(r, n[d-1], 1))\n",
    "        \n",
    "        print(\"CARRIAGES\")\n",
    "        for i in range(d):\n",
    "            print(G[i].shape)\n",
    "            \n",
    "        return G\n",
    "        \n",
    "    if(method == 'maxvol'):\n",
    "        return None\n",
    "    \n",
    "    \n",
    "    \n",
    "    \n",
    "    \n",
    "    \n",
    "    \n",
    "    \n",
    "    \n",
    "    \n",
    "    \n",
    "#     rhs = (eps*nrm) / (np.sqrt(d-1))\n",
    "    \n",
    "    # you wanted to make if/else for 2 methods"
   ]
  },
  {
   "cell_type": "code",
   "execution_count": 4,
   "metadata": {},
   "outputs": [
    {
     "name": "stdout",
     "output_type": "stream",
     "text": [
      "Nl: 10\n",
      "Nr: 1755\n",
      "shape(M) (10, 1755)\n",
      "INITIAL ITERATION: \n",
      "shape(u) =  (10, 10)\n",
      "shape(s) =  (10,)\n",
      "shape(vh) =  (1755, 1755)\n",
      "shape of s after fitting the diag into a matrix (10, 1755)\n",
      "get back to unfolding  (10, 1755)\n",
      "deconposition is correct\n",
      "shape(u_trunceted) =  (10, 10)\n",
      "shape(s_trunc) =  (10, 1755)\n",
      "shape(vh_trunc) =  (1755, 1755)\n",
      "ITERATION 1\n",
      "ITERATION 2\n",
      "ITERATION 3\n",
      "CARRIAGES\n",
      "(1, 10, 10)\n",
      "(10, 9, 90)\n",
      "(90, 13, 15)\n",
      "(15, 5, 3)\n",
      "(3, 3, 1)\n"
     ]
    }
   ],
   "source": [
    "B = np.random.rand(10, 9, 13, 5, 3)\n",
    "G = TT(B, eps=1, method='SVD')\n",
    "# here some problems with truncation"
   ]
  },
  {
   "cell_type": "code",
   "execution_count": 230,
   "metadata": {},
   "outputs": [],
   "source": [
    "import numpy as np\n",
    "import numpy.linalg as la\n",
    "import matplotlib.pyplot as plt\n",
    "\n",
    "eps = 1e-2\n",
    "\n",
    "d = 4\n",
    "\n",
    "A = np.array(\n",
    "[[[  [1, 8, 3], \n",
    "    [1, 2, 4], \n",
    "    [1, 3, 5]   ],\n",
    "[   [1, 8, 3], \n",
    "    [1, 2, 4], \n",
    "    [1, 7, 5]   ],\n",
    "[   [1, 2, 9], \n",
    "    [1, 5, 4], \n",
    "    [1, 3, 5]   ], \n",
    "[   [8, 2, 3], \n",
    "    [1, 4, 4], \n",
    "    [1, 3, 5]   ]], \n",
    "[[  [1, 8, 3], \n",
    "    [1, 2, 4], \n",
    "    [1, 3, 5]   ],\n",
    "[   [1, 8, 3], \n",
    "    [1, 2, 4], \n",
    "    [1, 3, 9]   ],\n",
    "[   [1, 2, 3], \n",
    "    [1, 5, 4], \n",
    "    [1, 3, 5]   ], \n",
    "[   [6, 2, 3], \n",
    "    [1, 4, 1], \n",
    "    [1, 3, 5]   ]],\n",
    "[[  [1, 8, 3], \n",
    "    [1, 2, 2], \n",
    "    [1, 3, 5]   ],\n",
    "[   [1, 8, 3], \n",
    "    [1, 2, 6], \n",
    "    [1, 3, 5]   ],\n",
    "[   [1, 2, 3], \n",
    "    [1, 5, 4], \n",
    "    [1, 3, 5]   ], \n",
    "[   [1, 2, 3], \n",
    "    [1, 4, 4], \n",
    "    [1, 3, 5]   ]]]    )\n",
    "\n",
    "n = A.shape"
   ]
  },
  {
   "cell_type": "code",
   "execution_count": 176,
   "metadata": {},
   "outputs": [
    {
     "data": {
      "text/plain": [
       "(3, 4, 3, 3)"
      ]
     },
     "execution_count": 176,
     "metadata": {},
     "output_type": "execute_result"
    }
   ],
   "source": [
    "n"
   ]
  },
  {
   "cell_type": "code",
   "execution_count": 210,
   "metadata": {},
   "outputs": [
    {
     "name": "stdout",
     "output_type": "stream",
     "text": [
      "(9, 3, 3)\n",
      "ok\n"
     ]
    }
   ],
   "source": [
    "G1 = np.tensordot(G[0], G[1], axes=1) \n",
    "print(G[2].shape)\n",
    "G2 = np.tensordot(G1, G[2], axes=1)\n",
    "G3 = np.tensordot(G2, G[3], axes=1)\n",
    "G3 = G3.reshape(3, 4, 3, 3)\n",
    "G3.shape\n",
    "if(np.linalg.norm(G3 - A) < 1e-3):\n",
    "    print('ok')"
   ]
  },
  {
   "cell_type": "code",
   "execution_count": 68,
   "metadata": {},
   "outputs": [
    {
     "data": {
      "text/plain": [
       "tuple"
      ]
     },
     "execution_count": 68,
     "metadata": {},
     "output_type": "execute_result"
    }
   ],
   "source": [
    "\n",
    "A = np.random.rand(3, 3, 3, 3)\n",
    "n1 = A.shape"
   ]
  },
  {
   "cell_type": "code",
   "execution_count": null,
   "metadata": {
    "collapsed": true
   },
   "outputs": [],
   "source": []
  }
 ],
 "metadata": {
  "kernelspec": {
   "display_name": "Python 3",
   "language": "python",
   "name": "python3"
  },
  "language_info": {
   "codemirror_mode": {
    "name": "ipython",
    "version": 3
   },
   "file_extension": ".py",
   "mimetype": "text/x-python",
   "name": "python",
   "nbconvert_exporter": "python",
   "pygments_lexer": "ipython3",
   "version": "3.6.2"
  }
 },
 "nbformat": 4,
 "nbformat_minor": 2
}
